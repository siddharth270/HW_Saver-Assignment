{
 "cells": [
  {
   "cell_type": "code",
   "execution_count": 62,
   "id": "854c1694",
   "metadata": {},
   "outputs": [],
   "source": [
    "import pandas as pd"
   ]
  },
  {
   "cell_type": "code",
   "execution_count": 63,
   "id": "738a9bee",
   "metadata": {
    "scrolled": true
   },
   "outputs": [],
   "source": [
    "df = pd.read_csv('Raw_Skills_Dataset.csv')\n",
    "technical_skills = pd.read_json('new.json')"
   ]
  },
  {
   "cell_type": "code",
   "execution_count": 64,
   "id": "371e80e3",
   "metadata": {},
   "outputs": [],
   "source": [
    "filt = df['RAW DATA'].str.lower().isin(technical_skills['name'])"
   ]
  },
  {
   "cell_type": "code",
   "execution_count": 65,
   "id": "5e3ae159",
   "metadata": {},
   "outputs": [],
   "source": [
    "final = df.loc[filt,'RAW DATA']"
   ]
  },
  {
   "cell_type": "code",
   "execution_count": 66,
   "id": "2fb68f7b",
   "metadata": {},
   "outputs": [
    {
     "data": {
      "text/plain": [
       "7        Relational Databases\n",
       "8                         SQL\n",
       "9                         ORM\n",
       "11                  Hibernate\n",
       "12                    MyBatis\n",
       "                 ...         \n",
       "34106    Leadership qualities\n",
       "34111             negotiation\n",
       "34112               deadlines\n",
       "34114             negotiation\n",
       "34115               deadlines\n",
       "Name: RAW DATA, Length: 10482, dtype: object"
      ]
     },
     "execution_count": 66,
     "metadata": {},
     "output_type": "execute_result"
    }
   ],
   "source": [
    "final"
   ]
  },
  {
   "cell_type": "code",
   "execution_count": 67,
   "id": "b73ee3a0",
   "metadata": {},
   "outputs": [],
   "source": [
    "final.to_csv('solution.csv')"
   ]
  },
  {
   "cell_type": "code",
   "execution_count": null,
   "id": "66111e6e",
   "metadata": {},
   "outputs": [],
   "source": []
  }
 ],
 "metadata": {
  "kernelspec": {
   "display_name": "Python 3 (ipykernel)",
   "language": "python",
   "name": "python3"
  },
  "language_info": {
   "codemirror_mode": {
    "name": "ipython",
    "version": 3
   },
   "file_extension": ".py",
   "mimetype": "text/x-python",
   "name": "python",
   "nbconvert_exporter": "python",
   "pygments_lexer": "ipython3",
   "version": "3.10.4"
  }
 },
 "nbformat": 4,
 "nbformat_minor": 5
}
